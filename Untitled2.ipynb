{
 "cells": [
  {
   "cell_type": "code",
   "execution_count": 66,
   "metadata": {
    "collapsed": false
   },
   "outputs": [
    {
     "name": "stdout",
     "output_type": "stream",
     "text": [
      "SyntaxError: unexpected keyword_end, expecting end-of-input\n"
     ]
    }
   ],
   "source": [
    "require 'open-uri'\n",
    "require 'pry'\n",
    "require 'nokogiri'\n",
    "class Scraper\n",
    "\n",
    "  def self.scrape_index_page(index_url = 'http://127.0.0.1:4000' )\n",
    "  \tstudents = []\n",
    "  \t\n",
    "    doc = Nokogiri::HTML(open(index_url))\n",
    "    doc.css(\".student-card\").each do |student|\n",
    "    \tstudents << {\n",
    "          :name => student.css(\".card-text-container h4\").text,\n",
    "          :location => student.css(\".card-text-container p\").text,\n",
    "          :profile_url => index_url + student.css(\"a\").attribute(\"href\").value\n",
    "    \t}\n",
    "    end\n",
    "    students\n",
    "  end\n",
    "\n",
    "  def self.scrape_profile_page(profile_url)\n",
    "  \tdoc = Nokogiri::HTML(open(profile_url))\n",
    "    social_networks = doc.css(\".social-icon-container a\").map {|link| link[\"href\"]}\n",
    "    social_networks_names = social_networks.map |item| do\n",
    "      if item.include? (\"twitter\")\n",
    "        item = Twitter\n",
    "      end\n",
    "    end\n",
    "  \t# profile = {\n",
    "  \t# \t:twitter => doc.css(\".social-icon-container a\").attribute(\"href\")\n",
    "  \t# \t:linkedin =>\n",
    "  \t# \t:github =>\n",
    "  \t# \t:blog =>\n",
    "  \t# \t:profile_quote => doc.css(\".profile-quote\")\n",
    "  \t# \t:bio => doc.css(\".description-holder p\")\n",
    "  \t# }\n",
    "    social_networks\n",
    "    social_networks_names\n",
    "  end\n",
    "\n",
    "end\n",
    "\n",
    "\n"
   ]
  },
  {
   "cell_type": "code",
   "execution_count": 67,
   "metadata": {
    "collapsed": false
   },
   "outputs": [
    {
     "data": {
      "text/plain": [
       "[\"https://twitter.com/empireofryan\", \"https://www.linkedin.com/in/ryan-johnson-321629ab\", \"https://github.com/empireofryan\", \"https://www.youtube.com/watch?v=C22ufOqDyaE\"]"
      ]
     },
     "execution_count": 67,
     "metadata": {},
     "output_type": "execute_result"
    }
   ],
   "source": [
    "Scraper.scrape_profile_page(\"http://127.0.0.1:4000/students/ryan-johnson.html\")"
   ]
  },
  {
   "cell_type": "code",
   "execution_count": 68,
   "metadata": {
    "collapsed": false
   },
   "outputs": [
    {
     "data": {
      "text/plain": [
       "[\"http://127.0.0.1:4000students/ryan-johnson.html\", \"http://127.0.0.1:4000students/eric-chu.html\", \"http://127.0.0.1:4000students/aaron-enser.html\", \"http://127.0.0.1:4000students/brigan-enser.html\", \"http://127.0.0.1:4000students/joe-lachance.html\", \"http://127.0.0.1:4000students/adrian-prieto.html\", \"http://127.0.0.1:4000students/jenny-yamada.html\", \"http://127.0.0.1:4000students/james-novak.html\", \"http://127.0.0.1:4000students/dan-osment.html\", \"http://127.0.0.1:4000students/matt-preiser.html\", \"http://127.0.0.1:4000students/bridger-hammond.html\", \"http://127.0.0.1:4000students/sean-liu.html\", \"http://127.0.0.1:4000students/elias-kirsch.html\", \"http://127.0.0.1:4000students/robert-cohen.html\", \"http://127.0.0.1:4000students/cory-adams.html\", \"http://127.0.0.1:4000students/minh-nguyen.html\", \"http://127.0.0.1:4000students/chris-bruen.html\", \"http://127.0.0.1:4000students/corey-morris.html\", \"http://127.0.0.1:4000students/michael-nolan.html\", \"http://127.0.0.1:4000students/evan-ng.html\", \"http://127.0.0.1:4000students/matthew-cianciolo.html\", \"http://127.0.0.1:4000students/jelson-rodriguez.html\", \"http://127.0.0.1:4000students/duc-pham.html\", \"http://127.0.0.1:4000students/mack-dalton.html\", \"http://127.0.0.1:4000students/ruth-mesfun.html\", \"http://127.0.0.1:4000students/joe-burgess.html\", \"http://127.0.0.1:4000students/angel-olea.html\", \"http://127.0.0.1:4000students/luke-ghenco.html\", \"http://127.0.0.1:4000students/daniel-brad.html\", \"http://127.0.0.1:4000students/brad-smith.html\", \"http://127.0.0.1:4000students/taiwei.html\", \"http://127.0.0.1:4000students/mathieu-balez.html\", \"http://127.0.0.1:4000students/diane-vu.html\", \"http://127.0.0.1:4000students/phil-lai.html\", \"http://127.0.0.1:4000students/shana-moore.html\", \"http://127.0.0.1:4000students/laura-correa.html\", \"http://127.0.0.1:4000students/frank-nowinski.html\", \"http://127.0.0.1:4000students/bryony-delahoussaye.html\", \"http://127.0.0.1:4000students/danny-dawson.html\", \"http://127.0.0.1:4000students/richard-lu.html\", \"http://127.0.0.1:4000students/kyle-gray.html\", \"http://127.0.0.1:4000students/tracy-tran.html\", \"http://127.0.0.1:4000students/john-anthony.html\", \"http://127.0.0.1:4000students/preet-dha.html\", \"http://127.0.0.1:4000students/eric-an.html\", \"http://127.0.0.1:4000students/caleb-knox.html\", \"http://127.0.0.1:4000students/grace-lee.html\", \"http://127.0.0.1:4000students/jason-mcelrath.html\", \"http://127.0.0.1:4000students/mitul-mistry.html\", \"http://127.0.0.1:4000students/pj-wickwire.html\", \"http://127.0.0.1:4000students/karuna-barla.html\", \"http://127.0.0.1:4000students/johnny-ramos.html\", \"http://127.0.0.1:4000students/brett-heenan.html\", \"http://127.0.0.1:4000students/scotty-runyan.html\", \"http://127.0.0.1:4000students/dakota-lee-martinez.html\", \"http://127.0.0.1:4000students/morgan-vanyperen.html\", \"http://127.0.0.1:4000students/kyle-greene.html\", \"http://127.0.0.1:4000students/marsi-meyers-miyashita.html\", \"http://127.0.0.1:4000students/sarah-lichter.html\", \"http://127.0.0.1:4000students/justin-thomas.html\", \"http://127.0.0.1:4000students/shmully-wolfson.html\", \"http://127.0.0.1:4000students/vinesh-persaud.html\", \"http://127.0.0.1:4000students/ben-wong.html\", \"http://127.0.0.1:4000students/pedro-acosta.html\", \"http://127.0.0.1:4000students/seth-goldberg.html\", \"http://127.0.0.1:4000students/jake-brady.html\", \"http://127.0.0.1:4000students/lindsey-wells.html\", \"http://127.0.0.1:4000students/joseph-surla.html\", \"http://127.0.0.1:4000students/yoshi-tamaoki.html\", \"http://127.0.0.1:4000students/matt-mcgowan.html\", \"http://127.0.0.1:4000students/alyssa-hertig.html\", \"http://127.0.0.1:4000students/edgar-gonzalez.html\", \"http://127.0.0.1:4000students/lisa-marie.html\", \"http://127.0.0.1:4000students/tucker-bohman.html\", \"http://127.0.0.1:4000students/alvin-lu.html\", \"http://127.0.0.1:4000students/david-kim.html\", \"http://127.0.0.1:4000students/ashley-muller.html\", \"http://127.0.0.1:4000students/ed-karabinus.html\", \"http://127.0.0.1:4000students/liz-denhup.html\", \"http://127.0.0.1:4000students/james-ku.html\", \"http://127.0.0.1:4000students/zac-baston.html\", \"http://127.0.0.1:4000students/andy-zheng.html\", \"http://127.0.0.1:4000students/heber-sandoval.html\", \"http://127.0.0.1:4000students/adam-fraser.html\", \"http://127.0.0.1:4000students/douglas-lawrence.html\", \"http://127.0.0.1:4000students/Ross.html\", \"http://127.0.0.1:4000students/ziv-zamechek.html\", \"http://127.0.0.1:4000students/colton-staab.html\", \"http://127.0.0.1:4000students/chen-yang.html\", \"http://127.0.0.1:4000students/eric-baker.html\", \"http://127.0.0.1:4000students/michael-simon.html\", \"http://127.0.0.1:4000students/tra-to.html\", \"http://127.0.0.1:4000students/kris-henderson.html\", \"http://127.0.0.1:4000students/edward-an.html\", \"http://127.0.0.1:4000students/puna-earl.html\", \"http://127.0.0.1:4000students/jamie-gorman.html\", \"http://127.0.0.1:4000students/tony-st-nikolas.html\", \"http://127.0.0.1:4000students/john-depippo.html\", \"http://127.0.0.1:4000students/jennifer-lavoie.html\", \"http://127.0.0.1:4000students/ann-lee.html\", \"http://127.0.0.1:4000students/jason-southwell.html\", \"http://127.0.0.1:4000students/john-fewell.html\", \"http://127.0.0.1:4000students/michael-perritano.html\", \"http://127.0.0.1:4000students/kirsten-ofarrell.html\", \"http://127.0.0.1:4000students/gandhi-anderson.html\", \"http://127.0.0.1:4000students/mark-stein.html\", \"http://127.0.0.1:4000students/alex-barron.html\", \"http://127.0.0.1:4000students/zach-newburgh.html\", \"http://127.0.0.1:4000students/sean-mulligan.html\", \"http://127.0.0.1:4000students/kevin-mccormack.html\"]"
      ]
     },
     "execution_count": 68,
     "metadata": {},
     "output_type": "execute_result"
    }
   ],
   "source": [
    "Scraper.scrape_index_page.collect {|item| item[:profile_url]}"
   ]
  },
  {
   "cell_type": "code",
   "execution_count": null,
   "metadata": {
    "collapsed": true
   },
   "outputs": [],
   "source": []
  },
  {
   "cell_type": "code",
   "execution_count": 12,
   "metadata": {
    "collapsed": true
   },
   "outputs": [],
   "source": []
  },
  {
   "cell_type": "code",
   "execution_count": null,
   "metadata": {
    "collapsed": true
   },
   "outputs": [],
   "source": []
  }
 ],
 "metadata": {
  "kernelspec": {
   "display_name": "Ruby 2.2.3",
   "language": "ruby",
   "name": "ruby"
  },
  "language_info": {
   "file_extension": ".rb",
   "mimetype": "application/x-ruby",
   "name": "ruby",
   "version": "2.2.3"
  }
 },
 "nbformat": 4,
 "nbformat_minor": 0
}
