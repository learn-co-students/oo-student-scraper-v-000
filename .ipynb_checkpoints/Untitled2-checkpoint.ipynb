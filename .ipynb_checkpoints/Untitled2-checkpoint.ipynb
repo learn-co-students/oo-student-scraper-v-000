{
 "cells": [
  {
   "cell_type": "code",
   "execution_count": 60,
   "metadata": {
    "collapsed": false
   },
   "outputs": [
    {
     "data": {
      "text/plain": [
       ":scrape_profile_page"
      ]
     },
     "execution_count": 60,
     "metadata": {},
     "output_type": "execute_result"
    }
   ],
   "source": [
    "require 'open-uri'\n",
    "require 'pry'\n",
    "require 'nokogiri'\n",
    "class Scraper\n",
    "\n",
    "  def self.scrape_index_page(index_url = 'http://127.0.0.1:4000' )\n",
    "  \tstudents = []\n",
    "  \t\n",
    "    doc = Nokogiri::HTML(open(index_url))\n",
    "    doc.css(\".student-card\").each do |student|\n",
    "    \tstudents << {\n",
    "          :name => student.css(\".card-text-container h4\").text,\n",
    "          :location => student.css(\".card-text-container p\").text,\n",
    "          :profile_url => index_url + student.css(\"a\").attribute(\"href\").value\n",
    "    \t}\n",
    "    end\n",
    "    students\n",
    "  end\n",
    "\n",
    "  def self.scrape_profile_page(profile_url)\n",
    "  \tdoc = Nokogiri::HTML(open(profile_url))\n",
    "    social_networks = doc.css(\".social-icon-container a\").map {|link| link[\"href\"]}\n",
    "    social_networks_names = social_networks.map {|item|\n",
    "      if item.include? (\"twitter\")\n",
    "        item = Twitter\n",
    "      \n",
    "      \n",
    "      }\n",
    "  \t# profile = {\n",
    "  \t# \t:twitter => doc.css(\".social-icon-container a\").attribute(\"href\")\n",
    "  \t# \t:linkedin =>\n",
    "  \t# \t:github =>\n",
    "  \t# \t:blog =>\n",
    "  \t# \t:profile_quote => doc.css(\".profile-quote\")\n",
    "  \t# \t:bio => doc.css(\".description-holder p\")\n",
    "  \t# }\n",
    "    social_networks\n",
    "  end\n",
    "\n",
    "end\n",
    "\n",
    "\n"
   ]
  },
  {
   "cell_type": "code",
   "execution_count": 61,
   "metadata": {
    "collapsed": false
   },
   "outputs": [
    {
     "data": {
      "text/plain": [
       "[\"https://twitter.com/empireofryan\", \"https://www.linkedin.com/in/ryan-johnson-321629ab\", \"https://github.com/empireofryan\", \"https://www.youtube.com/watch?v=C22ufOqDyaE\"]"
      ]
     },
     "execution_count": 61,
     "metadata": {},
     "output_type": "execute_result"
    }
   ],
   "source": [
    "Scraper.scrape_profile_page(\"http://127.0.0.1:4000/students/ryan-johnson.html\")"
   ]
  },
  {
   "cell_type": "code",
   "execution_count": null,
   "metadata": {
    "collapsed": true
   },
   "outputs": [],
   "source": []
  },
  {
   "cell_type": "code",
   "execution_count": null,
   "metadata": {
    "collapsed": true
   },
   "outputs": [],
   "source": []
  },
  {
   "cell_type": "code",
   "execution_count": 12,
   "metadata": {
    "collapsed": true
   },
   "outputs": [],
   "source": []
  },
  {
   "cell_type": "code",
   "execution_count": null,
   "metadata": {
    "collapsed": true
   },
   "outputs": [],
   "source": []
  }
 ],
 "metadata": {
  "kernelspec": {
   "display_name": "Ruby 2.2.3",
   "language": "ruby",
   "name": "ruby"
  },
  "language_info": {
   "file_extension": ".rb",
   "mimetype": "application/x-ruby",
   "name": "ruby",
   "version": "2.2.3"
  }
 },
 "nbformat": 4,
 "nbformat_minor": 0
}
