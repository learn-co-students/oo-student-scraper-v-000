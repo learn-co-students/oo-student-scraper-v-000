{
 "cells": [
  {
   "cell_type": "code",
   "execution_count": 2,
   "metadata": {
    "collapsed": false
   },
   "outputs": [
    {
     "data": {
      "text/plain": [
       ":scrape_profile_page"
      ]
     },
     "execution_count": 2,
     "metadata": {},
     "output_type": "execute_result"
    }
   ],
   "source": [
    "require 'open-uri'\n",
    "require 'pry'\n",
    "require 'nokogiri'\n",
    "class Scraper\n",
    "\n",
    "  def self.scrape_index_page(index_url = 'http://127.0.0.1:4000' )\n",
    "  \tstudents = []\n",
    "  \t\n",
    "    doc = Nokogiri::HTML(open(index_url))\n",
    "    doc.css(\".student-card\").each do |student|\n",
    "    \tstudents << {\n",
    "          :name => student.css(\".card-text-container h4\").text,\n",
    "          :location => student.css(\".card-text-container p\").text,\n",
    "          :profile_url => index_url + \"/\" + student.css(\"a\").attribute(\"href\").value\n",
    "    \t}\n",
    "    end\n",
    "    students\n",
    "  end\n",
    "\n",
    "  def self.scrape_profile_page(profile_url)\n",
    "  \tdoc = Nokogiri::HTML(open(profile_url))\n",
    "    social_networks = doc.css(\".social-icon-container a\").map {|link| link[\"href\"]}\n",
    "  \t# profile = {\n",
    "  \t# \t:twitter => doc.css(\".social-icon-container a\").attribute(\"href\")\n",
    "  \t# \t:linkedin =>\n",
    "  \t# \t:github =>\n",
    "  \t# \t:blog =>\n",
    "  \t# \t:profile_quote => doc.css(\".profile-quote\")\n",
    "  \t# \t:bio => doc.css(\".description-holder p\")\n",
    "  \t# }\n",
    "    social_networks\n",
    "  end\n",
    "\n",
    "end"
   ]
  },
  {
   "cell_type": "code",
   "execution_count": 3,
   "metadata": {
    "collapsed": false
   },
   "outputs": [
    {
     "data": {
      "text/plain": [
       "[\"http://127.0.0.1:4000/students/ryan-johnson.html\", \"http://127.0.0.1:4000/students/eric-chu.html\", \"http://127.0.0.1:4000/students/aaron-enser.html\", \"http://127.0.0.1:4000/students/brigan-enser.html\", \"http://127.0.0.1:4000/students/joe-lachance.html\", \"http://127.0.0.1:4000/students/adrian-prieto.html\", \"http://127.0.0.1:4000/students/jenny-yamada.html\", \"http://127.0.0.1:4000/students/james-novak.html\", \"http://127.0.0.1:4000/students/dan-osment.html\", \"http://127.0.0.1:4000/students/matt-preiser.html\", \"http://127.0.0.1:4000/students/bridger-hammond.html\", \"http://127.0.0.1:4000/students/sean-liu.html\", \"http://127.0.0.1:4000/students/elias-kirsch.html\", \"http://127.0.0.1:4000/students/robert-cohen.html\", \"http://127.0.0.1:4000/students/cory-adams.html\", \"http://127.0.0.1:4000/students/minh-nguyen.html\", \"http://127.0.0.1:4000/students/chris-bruen.html\", \"http://127.0.0.1:4000/students/corey-morris.html\", \"http://127.0.0.1:4000/students/michael-nolan.html\", \"http://127.0.0.1:4000/students/evan-ng.html\", \"http://127.0.0.1:4000/students/matthew-cianciolo.html\", \"http://127.0.0.1:4000/students/jelson-rodriguez.html\", \"http://127.0.0.1:4000/students/duc-pham.html\", \"http://127.0.0.1:4000/students/mack-dalton.html\", \"http://127.0.0.1:4000/students/ruth-mesfun.html\", \"http://127.0.0.1:4000/students/joe-burgess.html\", \"http://127.0.0.1:4000/students/angel-olea.html\", \"http://127.0.0.1:4000/students/luke-ghenco.html\", \"http://127.0.0.1:4000/students/daniel-brad.html\", \"http://127.0.0.1:4000/students/brad-smith.html\", \"http://127.0.0.1:4000/students/taiwei.html\", \"http://127.0.0.1:4000/students/mathieu-balez.html\", \"http://127.0.0.1:4000/students/diane-vu.html\", \"http://127.0.0.1:4000/students/phil-lai.html\", \"http://127.0.0.1:4000/students/shana-moore.html\", \"http://127.0.0.1:4000/students/laura-correa.html\", \"http://127.0.0.1:4000/students/frank-nowinski.html\", \"http://127.0.0.1:4000/students/bryony-delahoussaye.html\", \"http://127.0.0.1:4000/students/danny-dawson.html\", \"http://127.0.0.1:4000/students/richard-lu.html\", \"http://127.0.0.1:4000/students/kyle-gray.html\", \"http://127.0.0.1:4000/students/tracy-tran.html\", \"http://127.0.0.1:4000/students/john-anthony.html\", \"http://127.0.0.1:4000/students/preet-dha.html\", \"http://127.0.0.1:4000/students/eric-an.html\", \"http://127.0.0.1:4000/students/caleb-knox.html\", \"http://127.0.0.1:4000/students/grace-lee.html\", \"http://127.0.0.1:4000/students/jason-mcelrath.html\", \"http://127.0.0.1:4000/students/mitul-mistry.html\", \"http://127.0.0.1:4000/students/pj-wickwire.html\", \"http://127.0.0.1:4000/students/karuna-barla.html\", \"http://127.0.0.1:4000/students/johnny-ramos.html\", \"http://127.0.0.1:4000/students/brett-heenan.html\", \"http://127.0.0.1:4000/students/scotty-runyan.html\", \"http://127.0.0.1:4000/students/dakota-lee-martinez.html\", \"http://127.0.0.1:4000/students/morgan-vanyperen.html\", \"http://127.0.0.1:4000/students/kyle-greene.html\", \"http://127.0.0.1:4000/students/marsi-meyers-miyashita.html\", \"http://127.0.0.1:4000/students/sarah-lichter.html\", \"http://127.0.0.1:4000/students/justin-thomas.html\", \"http://127.0.0.1:4000/students/shmully-wolfson.html\", \"http://127.0.0.1:4000/students/vinesh-persaud.html\", \"http://127.0.0.1:4000/students/ben-wong.html\", \"http://127.0.0.1:4000/students/pedro-acosta.html\", \"http://127.0.0.1:4000/students/seth-goldberg.html\", \"http://127.0.0.1:4000/students/jake-brady.html\", \"http://127.0.0.1:4000/students/lindsey-wells.html\", \"http://127.0.0.1:4000/students/joseph-surla.html\", \"http://127.0.0.1:4000/students/yoshi-tamaoki.html\", \"http://127.0.0.1:4000/students/matt-mcgowan.html\", \"http://127.0.0.1:4000/students/alyssa-hertig.html\", \"http://127.0.0.1:4000/students/edgar-gonzalez.html\", \"http://127.0.0.1:4000/students/lisa-marie.html\", \"http://127.0.0.1:4000/students/tucker-bohman.html\", \"http://127.0.0.1:4000/students/alvin-lu.html\", \"http://127.0.0.1:4000/students/david-kim.html\", \"http://127.0.0.1:4000/students/ashley-muller.html\", \"http://127.0.0.1:4000/students/ed-karabinus.html\", \"http://127.0.0.1:4000/students/liz-denhup.html\", \"http://127.0.0.1:4000/students/james-ku.html\", \"http://127.0.0.1:4000/students/zac-baston.html\", \"http://127.0.0.1:4000/students/andy-zheng.html\", \"http://127.0.0.1:4000/students/heber-sandoval.html\", \"http://127.0.0.1:4000/students/adam-fraser.html\", \"http://127.0.0.1:4000/students/douglas-lawrence.html\", \"http://127.0.0.1:4000/students/Ross.html\", \"http://127.0.0.1:4000/students/ziv-zamechek.html\", \"http://127.0.0.1:4000/students/colton-staab.html\", \"http://127.0.0.1:4000/students/chen-yang.html\", \"http://127.0.0.1:4000/students/eric-baker.html\", \"http://127.0.0.1:4000/students/michael-simon.html\", \"http://127.0.0.1:4000/students/tra-to.html\", \"http://127.0.0.1:4000/students/kris-henderson.html\", \"http://127.0.0.1:4000/students/edward-an.html\", \"http://127.0.0.1:4000/students/puna-earl.html\", \"http://127.0.0.1:4000/students/jamie-gorman.html\", \"http://127.0.0.1:4000/students/tony-st-nikolas.html\", \"http://127.0.0.1:4000/students/john-depippo.html\", \"http://127.0.0.1:4000/students/jennifer-lavoie.html\", \"http://127.0.0.1:4000/students/ann-lee.html\", \"http://127.0.0.1:4000/students/jason-southwell.html\", \"http://127.0.0.1:4000/students/john-fewell.html\", \"http://127.0.0.1:4000/students/michael-perritano.html\", \"http://127.0.0.1:4000/students/kirsten-ofarrell.html\", \"http://127.0.0.1:4000/students/gandhi-anderson.html\", \"http://127.0.0.1:4000/students/mark-stein.html\", \"http://127.0.0.1:4000/students/alex-barron.html\", \"http://127.0.0.1:4000/students/zach-newburgh.html\", \"http://127.0.0.1:4000/students/sean-mulligan.html\", \"http://127.0.0.1:4000/students/kevin-mccormack.html\"]"
      ]
     },
     "execution_count": 3,
     "metadata": {},
     "output_type": "execute_result"
    }
   ],
   "source": [
    "scraper = Scraper.scrape_index_page.collect{|item| item[:profile_url]}\n",
    "  scraper.each do |item|\n",
    "  \tScraper.scrape_profile_page(item).collect{|item2| item2}\n",
    "  \tend"
   ]
  },
  {
   "cell_type": "code",
   "execution_count": 4,
   "metadata": {
    "collapsed": false
   },
   "outputs": [
    {
     "data": {
      "text/plain": [
       "[[\"https://twitter.com/empireofryan\", \"https://www.linkedin.com/in/ryan-johnson-321629ab\", \"https://github.com/empireofryan\", \"https://www.youtube.com/watch?v=C22ufOqDyaE\"], [\"https://twitter.com/jugunyong\", \"https://www.linkedin.com/in/eric-chu-35953b42\", \"https://github.com/KentLeong\"], [\"http://www.github.com/aenser\", \"https://www.linkedin.com/in/aaron-enser-96a756a6\", \"https://facebook.com/aaronenser\"], [\"http://www.linkedin.com/in/brigan-enser-4b1323b8\", \"http://www.github.com/benser1\"], [\"https://github.com/fiveinfinity\"], [\"http://www.github.com/aprietof\", \"https://www.linkedin.com/in/adrianprieto\", \"https://twitter.com/adrianprieto00\"], [\"https://www.linkedin.com/profile/view?id=37994045\", \"http://www.github.com/jenjiyi\"], [\"http://www.github.com/jamesnvk\", \"https://www.linkedin.com/in/james-novak-3ba89266\", \"https://twitter.com/jnovak_\"], [\"https://twitter.com/osmentdan\", \"http://www.linkedin.com/in/danosment\", \"http://www.github.com/Tsundu\"], [\"https://twitter.com/mattpreiser\", \"https://www.linkedin.com/in/matthew-preiser-b48a35b4\", \"https://github.com/preiser\"], [\"http://www.github.com/reifnotreef\"], [\"https://www.github.com/seanliu93\", \"https://www.linkedin.com/in/sean-liu-90801843\"], [\"https://twitter.com/eliaskirsch\", \"https://www.linkedin.com/in/eliaskirsch\", \"https://github.com/eliaskirsch\"], [\"https://twitter.com/robcohenme\", \"http://www.linkedin.com/in/robcohenme\", \"http://www.github.com/robcohen\"], [\"https://learn.co/corya0687\"], [\"https://twitter.com/mhnguyen289\", \"https://www.linkedin.com/in/mhnguyen289\", \"https://github.com/mhnguyen289\", \"#\"], [\"https://www.linkedin.com/in/chris-bruen-b015a019\", \"https://github.com/cbruen\"], [\"http://www.github.com/louiefigz\"], [\"https://www.linkedin.com/in/michaelsnolan\", \"https://github.com/authorbeard\"], [\"https://www.linkedin.com/in/evan-ng-822869107\", \"https://github.com/evanscloud\"], [\"https://twitter.com/pickledyamsman\", \"https://www.linkedin.com/in/matthew-cianciolo-aaa8359b\", \"https://github.com/pickledyamsman\"], [\"https://www.linkedin.com/in/jelson-rodriguez-26062960\", \"http://www.github.com/JayThaGreat\"], [\"http://www.github.com/phamducv\"], [\"https://www.twitter.com/mackdalton\", \"https://www.linkedin.com/in/mackdalton\", \"https://github.com/mackdalton\"], [\"https://www.linkedin.com/in/ruthmesfun\", \"https://github.com/ruthmesfun\"], [\"https://twitter.com/jmburges\", \"https://www.linkedin.com/in/jmburges\", \"https://github.com/jmburges\", \"http://joemburgess.com/\"], [\"http://www.github.com/saturn226\"], [\"https://twitter.com/lukeghenco\", \"https://www.linkedin.com/in/luke-ghenco-9b1a77a0\", \"https://github.com/lukeghenco\"], [\"http://www.github.com/louiefigz\"], [\"https://www.twitter.com/smithwebtek\", \"http://www.linkedin.com/in/bradsmith2\", \"http://www.github.com/smithwebtek\"], [\"http://www.linkedin.com/in/taiweiko\", \"http://www.github.com/macgeek30\"], [\"http://twitter.com/matbalez\", \"http://www.linkedin.com/matbalez\", \"http://www.github.com/matbalez\"], [\"https://twitter.com/dianevug\", \"http://www.linkedin.com/in/vudiane\", \"http://www.github.com/dianelvu\"], [\"https://twitter.com/philiplai217\", \"https://www.linkedin.com/in/laiphilip\", \"https://github.com/plai217\"], [\"https://twitter.com/Shay_nuh__\", \"https://www.linkedin.com/in/shana-moore-8b794b3a\", \"https://github.com/ShanaLMoore\", \"#\"], [\"https://twitter.com/L_corr\", \"https://www.linkedin.com/in/laura-correa-865680111\", \"https://github.com/lcorr8\", \"#\"], [\"https://www.linkedin.com/profile/preview?locale=en_US&trk=prof-0-sb-preview-primary-button\", \"https://github.com/frankNowinski\"], [\"https://twitter.com/brydela\", \"https://www.linkedin.com/in/bryony-delahoussaye-a0a3a9109\", \"https://github.com/brydela\"], [\"https://twitter.com/developingdanny\", \"https://uk.linkedin.com/in/danny-dawson-08aa5731\", \"https://github.com/dannyd4315\", \"http://dannydawson.io/\"], [\"http://www.github.com/rluftw\"], [\"https://twitter.com/kylegraydev\", \"https://www.linkedin.com/in/kyle-gray-28744644\", \"https://github.com/kylegraydev\", \"#\"], [\"https://twitter.com/tracyctran\", \"https://www.linkedin.com/in/tracy-tran-4b11297\", \"https://github.com/bacitracin\"], [\"http://johnanthony-dev.com/blog/\", \"https://www.linkedin.com/in/john-rivera-87608779\", \"https://github.com/coffeeexistence\"], [\"http://twitter.com/preetness\", \"http:/github.com/preetdha\"], [\"https://twitter.com/epically_eric\", \"https://www.linkedin.com/in/aneric1\", \"https://github.com/eric-an\"], [\"https://twitter.com/caleb_knox9\", \"https://www.linkedin.com/in/caleb-knox-68bb1610a\", \"https://github.com/CalebKnox\"], [\"https://www.instagram.com/your_grace_is\", \"http://www.linkedin.com/in/glee38\", \"http://www.github.com/glee38\"], [\"http://twitter.com/gohugurmama\", \"http://www.github.com/jamcelr\"], [\"https://twitter.com/mmystic\", \"https://www.linkedin.com/in/MitulMistry\", \"http://www.github.com/MitulMistry\", \"http://MitulMistry.com/blog/\"], [\"https://www.linkedin.com/profile/preview?vpa=pub&locale=en_US\", \"https://github.com/pajamaw\"], [\"https://www.linkedin.com/in/imkaruna\", \"https://github.com/imkaruna\"], [\"https://twitter.com/johnram528\", \"https://www.linkedin.com/in/johnny-ramos-43501669\", \"https://github.com/johnram528\"], [\"https://www.linkedin.com/in/brett-heenan-b3560410b\", \"https://github.com/ryuichi7\"], [\"http://www.github.com/runyans7\", \"http://www.twitter.com/scottyrunyan\", \"http://runyans7.github.io\"], [\"https://www.linkedin.com/in/dakota-lee-martinez-8836a370\", \"https://github.com/DakotaLMartinez/\"], [\"https://twitter.com/morgvanny\", \"http://www.linkedin.com/in/morgvanny\", \"http://www.github.com/morgvanny\", \"http://morgvanny.com/\"], [\"https://twitter.com/primetimeksg\", \"https://www.linkedin.com/in/kyle-greene-57894818\", \"https://github.com/ksgreene1906\"], [\"https://twitter.com/mmeyersnyc\", \"https://www.linkedin.com/in/marsi-meyers-miyashita-287a33108\", \"https://github.com/mmmeyers\"], [\"https://twitter.com/selichter\", \"https://www.linkedin.com/in/sarah-lichter-83708133\", \"https://github.com/selichter\", \"#\"], [\"https://twitter.com/jvthomas0209\", \"https://www.linkedin.com/in/jthomas0209\", \"https://github.com/JVThomas\"], [\"https://twitter.com/ShmullyWolfson\", \"https://www.linkedin.com/in/shmullywolfson\", \"https://github.com/Shmuwol\"], [\"https://www.linkedin.com/profile/public-profile-settings?trk=prof-edit-edit-public_profile\", \"https://github.com/codeesh\"], [\"https://twitter.com\", \"https://www.linkedin.com/in/benwong4321\", \"https://github.com/bcwong1\", \"#\"], [\"https://twitter.com/PedroAcosta613\", \"hhttps://www.linkedin.com/in/pedro-acosta-280b9910a\", \"https://github.com/pacosta613\"], [\"https://www.linkedin.com/in/seth-goldberg-b5215810b\", \"https://github.com/jsgoldb\", \"http://jsgold.co\"], [\"https://twitter.com/jake_brady5\", \"https://www.linkedin.com/in/jakebrady5\", \"https://github.com/jakebrady5\"], [\"http://www.github.com/LKWLaLa\"], [\"http://twitter.com/josephsurla\", \"www.linkedin.com/in/josephsurla\", \"http://www.github.com/surla\"], [\"http://twitter.com/yosh1t\", \"http://www.linkedin.com/in/ytamaoki\", \"http://www.github.com/yoshikot\", \"http://yoshikot.wordpress.com\"], [\"https://github.com/matthewpaulmcgowan\"], [\"https://twitter.com/AlyssaHertig\", \"https://www.linkedin.com/in/alyssa-hertig-a2992556\", \"https://github.com/Ahertig/\"], [\"http://www.github.com/Rawradin\", \"https://www.linkedin.com/in/edgez\"], [\"https://twitter.com/lisamarie616\", \"https://www.linkedin.com/in/lisabriones616\", \"https://github.com/lisamarie616\"], [\"https://twitter.com/TuckerBohman\", \"https://www.linkedin.com/in/tucker-bohman-03472582\", \"https://github.com/tuckerbohman5\"], [\"http://www.linkedin.com/in/lualvin\", \"http://www.github.com/alvinluipo\"], [\"https://www.linkedin.com/in/david-kim-38221690\", \"https://github.com/davdkm\"], [\"http://www.github.com/saturn226\"], [\"https://www.linkedin.com/in/edwardkarabinus\", \"https://github.com/ed-karabinus\"], [\"https://twitter.com/lizdenhup\", \"http://www.linkedin.com/in//elizabeth-denhup-98636437\", \"http://www.github.com/lizdenhup\"], [\"http://www.github.com/jaeku\"], [\"https://github.com/zacscodingclub\", \"https://www.linkedin.com/in/zacharybaston\", \"https://twitter.com/zacsbarbellclub\"], [\"https://www.linkedin.com/in/andy-zheng-0b0438b7\", \"https://github.com/azheng249\"], [\"http://www.linkedin.com/in/hebersandoval\", \"http://www.github.com/hscoder\"], [\"https://twitter.com/adamfraser\", \"http://www.linkedin.com/in/adamfraser\", \"http://www.github.com/adamgfraser\"], [\"http://twitter.com/douglaslawrence\", \"http://www.linkedin.com/in/douglasjlawrence\", \"http://www.github.com/lawrend\"], [\"https://twitter.com/RossLawson_\", \"https://www.linkedin.com/in/ralston-lawson-716848ab\", \"https://github.com/Ralst0n/\"], [\"https://github.com/zivolution921\"], [\"http://www.github.com/coltonstaab1\"], [\"https://www.github.com/yangc5\", \"https://www.linkedin.com/in/chen-yang-b2652a104\", \"https://twitter.com/chenyangkraft\"], [\"https://twitter.com/e_baker\", \"https://www.linkedin.com/in/youvereachederic\", \"https://github.com/e-baker/\"], [\"https://www.twitter.com/michaelsimon\", \"https://www.linkedin.com/in/michaelhsimon\", \"https://github.com/michaelsimon\"], [\"https://www.linkedin.com/in/trato\", \"https://github.com/tttra\", \"https://twitter.com/ToThuTra\"], [\"https://twitter.com/imKrisnotChris\", \"https://www.linkedin.com/in/hendersonkris\", \"https://github.com/krisnotchris\"], [\"https://www.linkedin.com/in/edwardanchundia\", \"https://github.com/edwardanchundia\"], [\"https://www.linkedin.com/in/leah-earl-771252110\", \"https://github.com/LeahEarl\"], [\"https://www.linkedin.com/in/james-gorman-72562210b\", \"https://github.com/gormanjp\"], [\"https://twitter.com/lamass111\", \"https://www.linkedin.com/in/tony-adzinikolov-10467521\", \"https://github.com/lamass\", \"https://www.facebook.com/tony.nikolas.3\"], [\"https://twitter.com/depippo33\", \"www.linkedin.com/in/johndepippo\", \"https://github.com/depippo\"], [\"https://twitter.com/Pele3313\", \"https://www.linkedin.com/in/jenlavoie\", \"https://github.com/JenniferLavoie\"], [\"https://www.linkedin.com/in/aplee8282\", \"https://github.com/aplee29\"], [\"https://www.twitter.com/jasonpaulso\", \"http://www.linkedin.com/in/jasonpaulso\", \"http://www.github.com/jasonpaulso\"], [\"https://www.linkedin.com/in/johnfewell\", \"https://github.com/johnfewell\"], [\"https://github.com/perritanom\", \"https://www.linkedin.com/in/michael-perritano-9a5a0273\", \"https://www.facebook.com/michael.perritano.1\"], [\"https://twitter.com/macrodynamo\", \"https://www.linkedin.com/in/kirstenofarrell\", \"https://github.com/abadfish\"], [\"https://www.linkedin.com/in/gandhi-anderson-867640111\", \"https://github.com/thegands\"], [\"https://www.linkedin.com/in/mark-stein-5849a5a7\", \"https://github.com/mystycs/\"], [\"http://www.github.com/alexbarron\", \"https://www.linkedin.com/in/apbarron\", \"https://facebook.com/nomadicbarron\"], [\"https://github.com/zachnewburgh\", \"https://www.linkedin.com/in/zachnewburgh\", \"https://twitter.com/zachnewburgh\"], [\"http://www.github.com/smulligan85\", \"https://www.linkedin.com/in/sean-mulligan-887350112\", \"https://twitter.com/SeanMulligan85\"], [\"https://twitter.com/KevinWMcCormack\", \"https://www.linkedin.com/in/kevinwaynemccormack\", \"https://github.com/HarlemSquirrel/\"]]"
      ]
     },
     "execution_count": 4,
     "metadata": {},
     "output_type": "execute_result"
    }
   ],
   "source": [
    "scraper.collect do |item|\n",
    "  \tScraper.scrape_profile_page(item).collect{|item2| item2}\n",
    "  \tend"
   ]
  },
  {
   "cell_type": "code",
   "execution_count": 5,
   "metadata": {
    "collapsed": false
   },
   "outputs": [
    {
     "data": {
      "text/plain": [
       "[[\"https://twitter.com/empireofryan\", \"https://www.linkedin.com/in/ryan-johnson-321629ab\", \"https://github.com/empireofryan\", \"https://www.youtube.com/watch?v=C22ufOqDyaE\"], [\"https://twitter.com/jugunyong\", \"https://www.linkedin.com/in/eric-chu-35953b42\", \"https://github.com/KentLeong\"], [\"http://www.github.com/aenser\", \"https://www.linkedin.com/in/aaron-enser-96a756a6\", \"https://facebook.com/aaronenser\"], [\"http://www.linkedin.com/in/brigan-enser-4b1323b8\", \"http://www.github.com/benser1\"], [\"https://github.com/fiveinfinity\"], [\"http://www.github.com/aprietof\", \"https://www.linkedin.com/in/adrianprieto\", \"https://twitter.com/adrianprieto00\"], [\"https://www.linkedin.com/profile/view?id=37994045\", \"http://www.github.com/jenjiyi\"], [\"http://www.github.com/jamesnvk\", \"https://www.linkedin.com/in/james-novak-3ba89266\", \"https://twitter.com/jnovak_\"], [\"https://twitter.com/osmentdan\", \"http://www.linkedin.com/in/danosment\", \"http://www.github.com/Tsundu\"], [\"https://twitter.com/mattpreiser\", \"https://www.linkedin.com/in/matthew-preiser-b48a35b4\", \"https://github.com/preiser\"], [\"http://www.github.com/reifnotreef\"], [\"https://www.github.com/seanliu93\", \"https://www.linkedin.com/in/sean-liu-90801843\"], [\"https://twitter.com/eliaskirsch\", \"https://www.linkedin.com/in/eliaskirsch\", \"https://github.com/eliaskirsch\"], [\"https://twitter.com/robcohenme\", \"http://www.linkedin.com/in/robcohenme\", \"http://www.github.com/robcohen\"], [\"https://learn.co/corya0687\"], [\"https://twitter.com/mhnguyen289\", \"https://www.linkedin.com/in/mhnguyen289\", \"https://github.com/mhnguyen289\", \"#\"], [\"https://www.linkedin.com/in/chris-bruen-b015a019\", \"https://github.com/cbruen\"], [\"http://www.github.com/louiefigz\"], [\"https://www.linkedin.com/in/michaelsnolan\", \"https://github.com/authorbeard\"], [\"https://www.linkedin.com/in/evan-ng-822869107\", \"https://github.com/evanscloud\"], [\"https://twitter.com/pickledyamsman\", \"https://www.linkedin.com/in/matthew-cianciolo-aaa8359b\", \"https://github.com/pickledyamsman\"], [\"https://www.linkedin.com/in/jelson-rodriguez-26062960\", \"http://www.github.com/JayThaGreat\"], [\"http://www.github.com/phamducv\"], [\"https://www.twitter.com/mackdalton\", \"https://www.linkedin.com/in/mackdalton\", \"https://github.com/mackdalton\"], [\"https://www.linkedin.com/in/ruthmesfun\", \"https://github.com/ruthmesfun\"], [\"https://twitter.com/jmburges\", \"https://www.linkedin.com/in/jmburges\", \"https://github.com/jmburges\", \"http://joemburgess.com/\"], [\"http://www.github.com/saturn226\"], [\"https://twitter.com/lukeghenco\", \"https://www.linkedin.com/in/luke-ghenco-9b1a77a0\", \"https://github.com/lukeghenco\"], [\"http://www.github.com/louiefigz\"], [\"https://www.twitter.com/smithwebtek\", \"http://www.linkedin.com/in/bradsmith2\", \"http://www.github.com/smithwebtek\"], [\"http://www.linkedin.com/in/taiweiko\", \"http://www.github.com/macgeek30\"], [\"http://twitter.com/matbalez\", \"http://www.linkedin.com/matbalez\", \"http://www.github.com/matbalez\"], [\"https://twitter.com/dianevug\", \"http://www.linkedin.com/in/vudiane\", \"http://www.github.com/dianelvu\"], [\"https://twitter.com/philiplai217\", \"https://www.linkedin.com/in/laiphilip\", \"https://github.com/plai217\"], [\"https://twitter.com/Shay_nuh__\", \"https://www.linkedin.com/in/shana-moore-8b794b3a\", \"https://github.com/ShanaLMoore\", \"#\"], [\"https://twitter.com/L_corr\", \"https://www.linkedin.com/in/laura-correa-865680111\", \"https://github.com/lcorr8\", \"#\"], [\"https://www.linkedin.com/profile/preview?locale=en_US&trk=prof-0-sb-preview-primary-button\", \"https://github.com/frankNowinski\"], [\"https://twitter.com/brydela\", \"https://www.linkedin.com/in/bryony-delahoussaye-a0a3a9109\", \"https://github.com/brydela\"], [\"https://twitter.com/developingdanny\", \"https://uk.linkedin.com/in/danny-dawson-08aa5731\", \"https://github.com/dannyd4315\", \"http://dannydawson.io/\"], [\"http://www.github.com/rluftw\"], [\"https://twitter.com/kylegraydev\", \"https://www.linkedin.com/in/kyle-gray-28744644\", \"https://github.com/kylegraydev\", \"#\"], [\"https://twitter.com/tracyctran\", \"https://www.linkedin.com/in/tracy-tran-4b11297\", \"https://github.com/bacitracin\"], [\"http://johnanthony-dev.com/blog/\", \"https://www.linkedin.com/in/john-rivera-87608779\", \"https://github.com/coffeeexistence\"], [\"http://twitter.com/preetness\", \"http:/github.com/preetdha\"], [\"https://twitter.com/epically_eric\", \"https://www.linkedin.com/in/aneric1\", \"https://github.com/eric-an\"], [\"https://twitter.com/caleb_knox9\", \"https://www.linkedin.com/in/caleb-knox-68bb1610a\", \"https://github.com/CalebKnox\"], [\"https://www.instagram.com/your_grace_is\", \"http://www.linkedin.com/in/glee38\", \"http://www.github.com/glee38\"], [\"http://twitter.com/gohugurmama\", \"http://www.github.com/jamcelr\"], [\"https://twitter.com/mmystic\", \"https://www.linkedin.com/in/MitulMistry\", \"http://www.github.com/MitulMistry\", \"http://MitulMistry.com/blog/\"], [\"https://www.linkedin.com/profile/preview?vpa=pub&locale=en_US\", \"https://github.com/pajamaw\"], [\"https://www.linkedin.com/in/imkaruna\", \"https://github.com/imkaruna\"], [\"https://twitter.com/johnram528\", \"https://www.linkedin.com/in/johnny-ramos-43501669\", \"https://github.com/johnram528\"], [\"https://www.linkedin.com/in/brett-heenan-b3560410b\", \"https://github.com/ryuichi7\"], [\"http://www.github.com/runyans7\", \"http://www.twitter.com/scottyrunyan\", \"http://runyans7.github.io\"], [\"https://www.linkedin.com/in/dakota-lee-martinez-8836a370\", \"https://github.com/DakotaLMartinez/\"], [\"https://twitter.com/morgvanny\", \"http://www.linkedin.com/in/morgvanny\", \"http://www.github.com/morgvanny\", \"http://morgvanny.com/\"], [\"https://twitter.com/primetimeksg\", \"https://www.linkedin.com/in/kyle-greene-57894818\", \"https://github.com/ksgreene1906\"], [\"https://twitter.com/mmeyersnyc\", \"https://www.linkedin.com/in/marsi-meyers-miyashita-287a33108\", \"https://github.com/mmmeyers\"], [\"https://twitter.com/selichter\", \"https://www.linkedin.com/in/sarah-lichter-83708133\", \"https://github.com/selichter\", \"#\"], [\"https://twitter.com/jvthomas0209\", \"https://www.linkedin.com/in/jthomas0209\", \"https://github.com/JVThomas\"], [\"https://twitter.com/ShmullyWolfson\", \"https://www.linkedin.com/in/shmullywolfson\", \"https://github.com/Shmuwol\"], [\"https://www.linkedin.com/profile/public-profile-settings?trk=prof-edit-edit-public_profile\", \"https://github.com/codeesh\"], [\"https://twitter.com\", \"https://www.linkedin.com/in/benwong4321\", \"https://github.com/bcwong1\", \"#\"], [\"https://twitter.com/PedroAcosta613\", \"hhttps://www.linkedin.com/in/pedro-acosta-280b9910a\", \"https://github.com/pacosta613\"], [\"https://www.linkedin.com/in/seth-goldberg-b5215810b\", \"https://github.com/jsgoldb\", \"http://jsgold.co\"], [\"https://twitter.com/jake_brady5\", \"https://www.linkedin.com/in/jakebrady5\", \"https://github.com/jakebrady5\"], [\"http://www.github.com/LKWLaLa\"], [\"http://twitter.com/josephsurla\", \"www.linkedin.com/in/josephsurla\", \"http://www.github.com/surla\"], [\"http://twitter.com/yosh1t\", \"http://www.linkedin.com/in/ytamaoki\", \"http://www.github.com/yoshikot\", \"http://yoshikot.wordpress.com\"], [\"https://github.com/matthewpaulmcgowan\"], [\"https://twitter.com/AlyssaHertig\", \"https://www.linkedin.com/in/alyssa-hertig-a2992556\", \"https://github.com/Ahertig/\"], [\"http://www.github.com/Rawradin\", \"https://www.linkedin.com/in/edgez\"], [\"https://twitter.com/lisamarie616\", \"https://www.linkedin.com/in/lisabriones616\", \"https://github.com/lisamarie616\"], [\"https://twitter.com/TuckerBohman\", \"https://www.linkedin.com/in/tucker-bohman-03472582\", \"https://github.com/tuckerbohman5\"], [\"http://www.linkedin.com/in/lualvin\", \"http://www.github.com/alvinluipo\"], [\"https://www.linkedin.com/in/david-kim-38221690\", \"https://github.com/davdkm\"], [\"http://www.github.com/saturn226\"], [\"https://www.linkedin.com/in/edwardkarabinus\", \"https://github.com/ed-karabinus\"], [\"https://twitter.com/lizdenhup\", \"http://www.linkedin.com/in//elizabeth-denhup-98636437\", \"http://www.github.com/lizdenhup\"], [\"http://www.github.com/jaeku\"], [\"https://github.com/zacscodingclub\", \"https://www.linkedin.com/in/zacharybaston\", \"https://twitter.com/zacsbarbellclub\"], [\"https://www.linkedin.com/in/andy-zheng-0b0438b7\", \"https://github.com/azheng249\"], [\"http://www.linkedin.com/in/hebersandoval\", \"http://www.github.com/hscoder\"], [\"https://twitter.com/adamfraser\", \"http://www.linkedin.com/in/adamfraser\", \"http://www.github.com/adamgfraser\"], [\"http://twitter.com/douglaslawrence\", \"http://www.linkedin.com/in/douglasjlawrence\", \"http://www.github.com/lawrend\"], [\"https://twitter.com/RossLawson_\", \"https://www.linkedin.com/in/ralston-lawson-716848ab\", \"https://github.com/Ralst0n/\"], [\"https://github.com/zivolution921\"], [\"http://www.github.com/coltonstaab1\"], [\"https://www.github.com/yangc5\", \"https://www.linkedin.com/in/chen-yang-b2652a104\", \"https://twitter.com/chenyangkraft\"], [\"https://twitter.com/e_baker\", \"https://www.linkedin.com/in/youvereachederic\", \"https://github.com/e-baker/\"], [\"https://www.twitter.com/michaelsimon\", \"https://www.linkedin.com/in/michaelhsimon\", \"https://github.com/michaelsimon\"], [\"https://www.linkedin.com/in/trato\", \"https://github.com/tttra\", \"https://twitter.com/ToThuTra\"], [\"https://twitter.com/imKrisnotChris\", \"https://www.linkedin.com/in/hendersonkris\", \"https://github.com/krisnotchris\"], [\"https://www.linkedin.com/in/edwardanchundia\", \"https://github.com/edwardanchundia\"], [\"https://www.linkedin.com/in/leah-earl-771252110\", \"https://github.com/LeahEarl\"], [\"https://www.linkedin.com/in/james-gorman-72562210b\", \"https://github.com/gormanjp\"], [\"https://twitter.com/lamass111\", \"https://www.linkedin.com/in/tony-adzinikolov-10467521\", \"https://github.com/lamass\", \"https://www.facebook.com/tony.nikolas.3\"], [\"https://twitter.com/depippo33\", \"www.linkedin.com/in/johndepippo\", \"https://github.com/depippo\"], [\"https://twitter.com/Pele3313\", \"https://www.linkedin.com/in/jenlavoie\", \"https://github.com/JenniferLavoie\"], [\"https://www.linkedin.com/in/aplee8282\", \"https://github.com/aplee29\"], [\"https://www.twitter.com/jasonpaulso\", \"http://www.linkedin.com/in/jasonpaulso\", \"http://www.github.com/jasonpaulso\"], [\"https://www.linkedin.com/in/johnfewell\", \"https://github.com/johnfewell\"], [\"https://github.com/perritanom\", \"https://www.linkedin.com/in/michael-perritano-9a5a0273\", \"https://www.facebook.com/michael.perritano.1\"], [\"https://twitter.com/macrodynamo\", \"https://www.linkedin.com/in/kirstenofarrell\", \"https://github.com/abadfish\"], [\"https://www.linkedin.com/in/gandhi-anderson-867640111\", \"https://github.com/thegands\"], [\"https://www.linkedin.com/in/mark-stein-5849a5a7\", \"https://github.com/mystycs/\"], [\"http://www.github.com/alexbarron\", \"https://www.linkedin.com/in/apbarron\", \"https://facebook.com/nomadicbarron\"], [\"https://github.com/zachnewburgh\", \"https://www.linkedin.com/in/zachnewburgh\", \"https://twitter.com/zachnewburgh\"], [\"http://www.github.com/smulligan85\", \"https://www.linkedin.com/in/sean-mulligan-887350112\", \"https://twitter.com/SeanMulligan85\"], [\"https://twitter.com/KevinWMcCormack\", \"https://www.linkedin.com/in/kevinwaynemccormack\", \"https://github.com/HarlemSquirrel/\"]]"
      ]
     },
     "execution_count": 5,
     "metadata": {},
     "output_type": "execute_result"
    }
   ],
   "source": [
    "a = scraper.collect do |item|\n",
    "  \tScraper.scrape_profile_page(item).collect{|item2| item2}\n",
    "  \tend\n"
   ]
  },
  {
   "cell_type": "code",
   "execution_count": 6,
   "metadata": {
    "collapsed": false
   },
   "outputs": [
    {
     "data": {
      "text/plain": [
       "[[\"https://twitter.com/empireofryan\", \"https://www.linkedin.com/in/ryan-johnson-321629ab\", \"https://github.com/empireofryan\", \"https://www.youtube.com/watch?v=C22ufOqDyaE\"], [\"https://twitter.com/jugunyong\", \"https://www.linkedin.com/in/eric-chu-35953b42\", \"https://github.com/KentLeong\"], [\"http://www.github.com/aenser\", \"https://www.linkedin.com/in/aaron-enser-96a756a6\", \"https://facebook.com/aaronenser\"], [\"http://www.linkedin.com/in/brigan-enser-4b1323b8\", \"http://www.github.com/benser1\"], [\"https://github.com/fiveinfinity\"], [\"http://www.github.com/aprietof\", \"https://www.linkedin.com/in/adrianprieto\", \"https://twitter.com/adrianprieto00\"], [\"https://www.linkedin.com/profile/view?id=37994045\", \"http://www.github.com/jenjiyi\"], [\"http://www.github.com/jamesnvk\", \"https://www.linkedin.com/in/james-novak-3ba89266\", \"https://twitter.com/jnovak_\"], [\"https://twitter.com/osmentdan\", \"http://www.linkedin.com/in/danosment\", \"http://www.github.com/Tsundu\"], [\"https://twitter.com/mattpreiser\", \"https://www.linkedin.com/in/matthew-preiser-b48a35b4\", \"https://github.com/preiser\"], [\"http://www.github.com/reifnotreef\"], [\"https://www.github.com/seanliu93\", \"https://www.linkedin.com/in/sean-liu-90801843\"], [\"https://twitter.com/eliaskirsch\", \"https://www.linkedin.com/in/eliaskirsch\", \"https://github.com/eliaskirsch\"], [\"https://twitter.com/robcohenme\", \"http://www.linkedin.com/in/robcohenme\", \"http://www.github.com/robcohen\"], [\"https://learn.co/corya0687\"], [\"https://twitter.com/mhnguyen289\", \"https://www.linkedin.com/in/mhnguyen289\", \"https://github.com/mhnguyen289\", \"#\"], [\"https://www.linkedin.com/in/chris-bruen-b015a019\", \"https://github.com/cbruen\"], [\"http://www.github.com/louiefigz\"], [\"https://www.linkedin.com/in/michaelsnolan\", \"https://github.com/authorbeard\"], [\"https://www.linkedin.com/in/evan-ng-822869107\", \"https://github.com/evanscloud\"], [\"https://twitter.com/pickledyamsman\", \"https://www.linkedin.com/in/matthew-cianciolo-aaa8359b\", \"https://github.com/pickledyamsman\"], [\"https://www.linkedin.com/in/jelson-rodriguez-26062960\", \"http://www.github.com/JayThaGreat\"], [\"http://www.github.com/phamducv\"], [\"https://www.twitter.com/mackdalton\", \"https://www.linkedin.com/in/mackdalton\", \"https://github.com/mackdalton\"], [\"https://www.linkedin.com/in/ruthmesfun\", \"https://github.com/ruthmesfun\"], [\"https://twitter.com/jmburges\", \"https://www.linkedin.com/in/jmburges\", \"https://github.com/jmburges\", \"http://joemburgess.com/\"], [\"http://www.github.com/saturn226\"], [\"https://twitter.com/lukeghenco\", \"https://www.linkedin.com/in/luke-ghenco-9b1a77a0\", \"https://github.com/lukeghenco\"], [\"http://www.github.com/louiefigz\"], [\"https://www.twitter.com/smithwebtek\", \"http://www.linkedin.com/in/bradsmith2\", \"http://www.github.com/smithwebtek\"], [\"http://www.linkedin.com/in/taiweiko\", \"http://www.github.com/macgeek30\"], [\"http://twitter.com/matbalez\", \"http://www.linkedin.com/matbalez\", \"http://www.github.com/matbalez\"], [\"https://twitter.com/dianevug\", \"http://www.linkedin.com/in/vudiane\", \"http://www.github.com/dianelvu\"], [\"https://twitter.com/philiplai217\", \"https://www.linkedin.com/in/laiphilip\", \"https://github.com/plai217\"], [\"https://twitter.com/Shay_nuh__\", \"https://www.linkedin.com/in/shana-moore-8b794b3a\", \"https://github.com/ShanaLMoore\", \"#\"], [\"https://twitter.com/L_corr\", \"https://www.linkedin.com/in/laura-correa-865680111\", \"https://github.com/lcorr8\", \"#\"], [\"https://www.linkedin.com/profile/preview?locale=en_US&trk=prof-0-sb-preview-primary-button\", \"https://github.com/frankNowinski\"], [\"https://twitter.com/brydela\", \"https://www.linkedin.com/in/bryony-delahoussaye-a0a3a9109\", \"https://github.com/brydela\"], [\"https://twitter.com/developingdanny\", \"https://uk.linkedin.com/in/danny-dawson-08aa5731\", \"https://github.com/dannyd4315\", \"http://dannydawson.io/\"], [\"http://www.github.com/rluftw\"], [\"https://twitter.com/kylegraydev\", \"https://www.linkedin.com/in/kyle-gray-28744644\", \"https://github.com/kylegraydev\", \"#\"], [\"https://twitter.com/tracyctran\", \"https://www.linkedin.com/in/tracy-tran-4b11297\", \"https://github.com/bacitracin\"], [\"http://johnanthony-dev.com/blog/\", \"https://www.linkedin.com/in/john-rivera-87608779\", \"https://github.com/coffeeexistence\"], [\"http://twitter.com/preetness\", \"http:/github.com/preetdha\"], [\"https://twitter.com/epically_eric\", \"https://www.linkedin.com/in/aneric1\", \"https://github.com/eric-an\"], [\"https://twitter.com/caleb_knox9\", \"https://www.linkedin.com/in/caleb-knox-68bb1610a\", \"https://github.com/CalebKnox\"], [\"https://www.instagram.com/your_grace_is\", \"http://www.linkedin.com/in/glee38\", \"http://www.github.com/glee38\"], [\"http://twitter.com/gohugurmama\", \"http://www.github.com/jamcelr\"], [\"https://twitter.com/mmystic\", \"https://www.linkedin.com/in/MitulMistry\", \"http://www.github.com/MitulMistry\", \"http://MitulMistry.com/blog/\"], [\"https://www.linkedin.com/profile/preview?vpa=pub&locale=en_US\", \"https://github.com/pajamaw\"], [\"https://www.linkedin.com/in/imkaruna\", \"https://github.com/imkaruna\"], [\"https://twitter.com/johnram528\", \"https://www.linkedin.com/in/johnny-ramos-43501669\", \"https://github.com/johnram528\"], [\"https://www.linkedin.com/in/brett-heenan-b3560410b\", \"https://github.com/ryuichi7\"], [\"http://www.github.com/runyans7\", \"http://www.twitter.com/scottyrunyan\", \"http://runyans7.github.io\"], [\"https://www.linkedin.com/in/dakota-lee-martinez-8836a370\", \"https://github.com/DakotaLMartinez/\"], [\"https://twitter.com/morgvanny\", \"http://www.linkedin.com/in/morgvanny\", \"http://www.github.com/morgvanny\", \"http://morgvanny.com/\"], [\"https://twitter.com/primetimeksg\", \"https://www.linkedin.com/in/kyle-greene-57894818\", \"https://github.com/ksgreene1906\"], [\"https://twitter.com/mmeyersnyc\", \"https://www.linkedin.com/in/marsi-meyers-miyashita-287a33108\", \"https://github.com/mmmeyers\"], [\"https://twitter.com/selichter\", \"https://www.linkedin.com/in/sarah-lichter-83708133\", \"https://github.com/selichter\", \"#\"], [\"https://twitter.com/jvthomas0209\", \"https://www.linkedin.com/in/jthomas0209\", \"https://github.com/JVThomas\"], [\"https://twitter.com/ShmullyWolfson\", \"https://www.linkedin.com/in/shmullywolfson\", \"https://github.com/Shmuwol\"], [\"https://www.linkedin.com/profile/public-profile-settings?trk=prof-edit-edit-public_profile\", \"https://github.com/codeesh\"], [\"https://twitter.com\", \"https://www.linkedin.com/in/benwong4321\", \"https://github.com/bcwong1\", \"#\"], [\"https://twitter.com/PedroAcosta613\", \"hhttps://www.linkedin.com/in/pedro-acosta-280b9910a\", \"https://github.com/pacosta613\"], [\"https://www.linkedin.com/in/seth-goldberg-b5215810b\", \"https://github.com/jsgoldb\", \"http://jsgold.co\"], [\"https://twitter.com/jake_brady5\", \"https://www.linkedin.com/in/jakebrady5\", \"https://github.com/jakebrady5\"], [\"http://www.github.com/LKWLaLa\"], [\"http://twitter.com/josephsurla\", \"www.linkedin.com/in/josephsurla\", \"http://www.github.com/surla\"], [\"http://twitter.com/yosh1t\", \"http://www.linkedin.com/in/ytamaoki\", \"http://www.github.com/yoshikot\", \"http://yoshikot.wordpress.com\"], [\"https://github.com/matthewpaulmcgowan\"], [\"https://twitter.com/AlyssaHertig\", \"https://www.linkedin.com/in/alyssa-hertig-a2992556\", \"https://github.com/Ahertig/\"], [\"http://www.github.com/Rawradin\", \"https://www.linkedin.com/in/edgez\"], [\"https://twitter.com/lisamarie616\", \"https://www.linkedin.com/in/lisabriones616\", \"https://github.com/lisamarie616\"], [\"https://twitter.com/TuckerBohman\", \"https://www.linkedin.com/in/tucker-bohman-03472582\", \"https://github.com/tuckerbohman5\"], [\"http://www.linkedin.com/in/lualvin\", \"http://www.github.com/alvinluipo\"], [\"https://www.linkedin.com/in/david-kim-38221690\", \"https://github.com/davdkm\"], [\"http://www.github.com/saturn226\"], [\"https://www.linkedin.com/in/edwardkarabinus\", \"https://github.com/ed-karabinus\"], [\"https://twitter.com/lizdenhup\", \"http://www.linkedin.com/in//elizabeth-denhup-98636437\", \"http://www.github.com/lizdenhup\"], [\"http://www.github.com/jaeku\"], [\"https://github.com/zacscodingclub\", \"https://www.linkedin.com/in/zacharybaston\", \"https://twitter.com/zacsbarbellclub\"], [\"https://www.linkedin.com/in/andy-zheng-0b0438b7\", \"https://github.com/azheng249\"], [\"http://www.linkedin.com/in/hebersandoval\", \"http://www.github.com/hscoder\"], [\"https://twitter.com/adamfraser\", \"http://www.linkedin.com/in/adamfraser\", \"http://www.github.com/adamgfraser\"], [\"http://twitter.com/douglaslawrence\", \"http://www.linkedin.com/in/douglasjlawrence\", \"http://www.github.com/lawrend\"], [\"https://twitter.com/RossLawson_\", \"https://www.linkedin.com/in/ralston-lawson-716848ab\", \"https://github.com/Ralst0n/\"], [\"https://github.com/zivolution921\"], [\"http://www.github.com/coltonstaab1\"], [\"https://www.github.com/yangc5\", \"https://www.linkedin.com/in/chen-yang-b2652a104\", \"https://twitter.com/chenyangkraft\"], [\"https://twitter.com/e_baker\", \"https://www.linkedin.com/in/youvereachederic\", \"https://github.com/e-baker/\"], [\"https://www.twitter.com/michaelsimon\", \"https://www.linkedin.com/in/michaelhsimon\", \"https://github.com/michaelsimon\"], [\"https://www.linkedin.com/in/trato\", \"https://github.com/tttra\", \"https://twitter.com/ToThuTra\"], [\"https://twitter.com/imKrisnotChris\", \"https://www.linkedin.com/in/hendersonkris\", \"https://github.com/krisnotchris\"], [\"https://www.linkedin.com/in/edwardanchundia\", \"https://github.com/edwardanchundia\"], [\"https://www.linkedin.com/in/leah-earl-771252110\", \"https://github.com/LeahEarl\"], [\"https://www.linkedin.com/in/james-gorman-72562210b\", \"https://github.com/gormanjp\"], [\"https://twitter.com/lamass111\", \"https://www.linkedin.com/in/tony-adzinikolov-10467521\", \"https://github.com/lamass\", \"https://www.facebook.com/tony.nikolas.3\"], [\"https://twitter.com/depippo33\", \"www.linkedin.com/in/johndepippo\", \"https://github.com/depippo\"], [\"https://twitter.com/Pele3313\", \"https://www.linkedin.com/in/jenlavoie\", \"https://github.com/JenniferLavoie\"], [\"https://www.linkedin.com/in/aplee8282\", \"https://github.com/aplee29\"], [\"https://www.twitter.com/jasonpaulso\", \"http://www.linkedin.com/in/jasonpaulso\", \"http://www.github.com/jasonpaulso\"], [\"https://www.linkedin.com/in/johnfewell\", \"https://github.com/johnfewell\"], [\"https://github.com/perritanom\", \"https://www.linkedin.com/in/michael-perritano-9a5a0273\", \"https://www.facebook.com/michael.perritano.1\"], [\"https://twitter.com/macrodynamo\", \"https://www.linkedin.com/in/kirstenofarrell\", \"https://github.com/abadfish\"], [\"https://www.linkedin.com/in/gandhi-anderson-867640111\", \"https://github.com/thegands\"], [\"https://www.linkedin.com/in/mark-stein-5849a5a7\", \"https://github.com/mystycs/\"], [\"http://www.github.com/alexbarron\", \"https://www.linkedin.com/in/apbarron\", \"https://facebook.com/nomadicbarron\"], [\"https://github.com/zachnewburgh\", \"https://www.linkedin.com/in/zachnewburgh\", \"https://twitter.com/zachnewburgh\"], [\"http://www.github.com/smulligan85\", \"https://www.linkedin.com/in/sean-mulligan-887350112\", \"https://twitter.com/SeanMulligan85\"], [\"https://twitter.com/KevinWMcCormack\", \"https://www.linkedin.com/in/kevinwaynemccormack\", \"https://github.com/HarlemSquirrel/\"]]"
      ]
     },
     "execution_count": 6,
     "metadata": {},
     "output_type": "execute_result"
    }
   ],
   "source": [
    "a"
   ]
  },
  {
   "cell_type": "code",
   "execution_count": 10,
   "metadata": {
    "collapsed": false
   },
   "outputs": [
    {
     "name": "stdout",
     "output_type": "stream",
     "text": [
      "Twitter\n",
      "GitHub\n",
      "Twitter\n",
      "GitHub\n",
      "GitHub\n",
      "GitHub\n",
      "GitHub\n",
      "GitHub\n",
      "Twitter\n",
      "GitHub\n",
      "GitHub\n",
      "Twitter\n",
      "Twitter\n",
      "GitHub\n",
      "Twitter\n",
      "GitHub\n",
      "GitHub\n",
      "GitHub\n",
      "Twitter\n",
      "GitHub\n",
      "Twitter\n",
      "GitHub\n",
      "Twitter\n",
      "GitHub\n",
      "GitHub\n",
      "GitHub\n",
      "GitHub\n",
      "GitHub\n",
      "Twitter\n",
      "GitHub\n",
      "GitHub\n",
      "GitHub\n",
      "Twitter\n",
      "GitHub\n",
      "GitHub\n",
      "Twitter\n",
      "GitHub\n",
      "GitHub\n",
      "Twitter\n",
      "GitHub\n",
      "GitHub\n",
      "Twitter\n",
      "GitHub\n",
      "GitHub\n",
      "Twitter\n",
      "GitHub\n",
      "Twitter\n",
      "GitHub\n",
      "Twitter\n",
      "GitHub\n",
      "Twitter\n",
      "GitHub\n",
      "Twitter\n",
      "GitHub\n",
      "GitHub\n",
      "Twitter\n",
      "GitHub\n",
      "Twitter\n",
      "GitHub\n",
      "GitHub\n",
      "Twitter\n",
      "GitHub\n",
      "Twitter\n",
      "GitHub\n",
      "GitHub\n",
      "Twitter\n",
      "GitHub\n",
      "Twitter\n",
      "GitHub\n",
      "Twitter\n",
      "GitHub\n",
      "GitHub\n",
      "Twitter\n",
      "GitHub\n",
      "Twitter\n",
      "GitHub\n",
      "GitHub\n",
      "GitHub\n",
      "Twitter\n",
      "GitHub\n",
      "GitHub\n",
      "GitHub\n",
      "Twitter\n",
      "GitHub\n",
      "GitHub\n",
      "Twitter\n",
      "GitHub\n",
      "Twitter\n",
      "GitHub\n",
      "Twitter\n",
      "GitHub\n",
      "Twitter\n",
      "GitHub\n",
      "Twitter\n",
      "GitHub\n",
      "Twitter\n",
      "GitHub\n",
      "GitHub\n",
      "Twitter\n",
      "GitHub\n",
      "Twitter\n",
      "GitHub\n",
      "GitHub\n",
      "Twitter\n",
      "GitHub\n",
      "GitHub\n",
      "Twitter\n",
      "GitHub\n",
      "Twitter\n",
      "GitHub\n",
      "GitHub\n",
      "Twitter\n",
      "GitHub\n",
      "GitHub\n",
      "Twitter\n",
      "GitHub\n",
      "Twitter\n",
      "GitHub\n",
      "GitHub\n",
      "GitHub\n",
      "GitHub\n",
      "GitHub\n",
      "Twitter\n",
      "GitHub\n",
      "GitHub\n",
      "GitHub\n",
      "Twitter\n",
      "GitHub\n",
      "GitHub\n",
      "Twitter\n",
      "GitHub\n",
      "Twitter\n",
      "GitHub\n",
      "Twitter\n",
      "GitHub\n",
      "GitHub\n",
      "GitHub\n",
      "GitHub\n",
      "Twitter\n",
      "Twitter\n",
      "GitHub\n",
      "Twitter\n",
      "GitHub\n",
      "GitHub\n",
      "Twitter\n",
      "Twitter\n",
      "GitHub\n",
      "GitHub\n",
      "GitHub\n",
      "GitHub\n",
      "Twitter\n",
      "GitHub\n",
      "Twitter\n",
      "GitHub\n",
      "Twitter\n",
      "GitHub\n",
      "GitHub\n",
      "Twitter\n",
      "GitHub\n",
      "GitHub\n",
      "GitHub\n",
      "Twitter\n",
      "GitHub\n",
      "GitHub\n",
      "GitHub\n",
      "GitHub\n",
      "GitHub\n",
      "Twitter\n",
      "GitHub\n",
      "Twitter\n",
      "Twitter\n",
      "GitHub\n"
     ]
    },
    {
     "data": {
      "text/plain": [
       "[[nil, nil, nil, nil], [nil, nil, nil], [nil, nil, nil], [nil, nil], [nil], [nil, nil, nil], [nil, nil], [nil, nil, nil], [nil, nil, nil], [nil, nil, nil], [nil], [nil, nil], [nil, nil, nil], [nil, nil, nil], [nil], [nil, nil, nil, nil], [nil, nil], [nil], [nil, nil], [nil, nil], [nil, nil, nil], [nil, nil], [nil], [nil, nil, nil], [nil, nil], [nil, nil, nil, nil], [nil], [nil, nil, nil], [nil], [nil, nil, nil], [nil, nil], [nil, nil, nil], [nil, nil, nil], [nil, nil, nil], [nil, nil, nil, nil], [nil, nil, nil, nil], [nil, nil], [nil, nil, nil], [nil, nil, nil, nil], [nil], [nil, nil, nil, nil], [nil, nil, nil], [nil, nil, nil], [nil, nil], [nil, nil, nil], [nil, nil, nil], [nil, nil, nil], [nil, nil], [nil, nil, nil, nil], [nil, nil], [nil, nil], [nil, nil, nil], [nil, nil], [nil, nil, nil], [nil, nil], [nil, nil, nil, nil], [nil, nil, nil], [nil, nil, nil], [nil, nil, nil, nil], [nil, nil, nil], [nil, nil, nil], [nil, nil], [nil, nil, nil, nil], [nil, nil, nil], [nil, nil, nil], [nil, nil, nil], [nil], [nil, nil, nil], [nil, nil, nil, nil], [nil], [nil, nil, nil], [nil, nil], [nil, nil, nil], [nil, nil, nil], [nil, nil], [nil, nil], [nil], [nil, nil], [nil, nil, nil], [nil], [nil, nil, nil], [nil, nil], [nil, nil], [nil, nil, nil], [nil, nil, nil], [nil, nil, nil], [nil], [nil], [nil, nil, nil], [nil, nil, nil], [nil, nil, nil], [nil, nil, nil], [nil, nil, nil], [nil, nil], [nil, nil], [nil, nil], [nil, nil, nil, nil], [nil, nil, nil], [nil, nil, nil], [nil, nil], [nil, nil, nil], [nil, nil], [nil, nil, nil], [nil, nil, nil], [nil, nil], [nil, nil], [nil, nil, nil], [nil, nil, nil], [nil, nil, nil], [nil, nil, nil]]"
      ]
     },
     "execution_count": 10,
     "metadata": {},
     "output_type": "execute_result"
    }
   ],
   "source": [
    "a.collect do |item|\n",
    "  item.collect do |item2|\n",
    "  if item2.include?(\"twitter\")\n",
    "    puts \"Twitter\"\n",
    "  elsif item2.include?(\"github\")\n",
    "    puts \"GitHub\"\n",
    "  end\n",
    "end\n",
    "end"
   ]
  },
  {
   "cell_type": "code",
   "execution_count": null,
   "metadata": {
    "collapsed": true
   },
   "outputs": [],
   "source": []
  }
 ],
 "metadata": {
  "kernelspec": {
   "display_name": "Ruby 2.2.3",
   "language": "ruby",
   "name": "ruby"
  },
  "language_info": {
   "file_extension": ".rb",
   "mimetype": "application/x-ruby",
   "name": "ruby",
   "version": "2.2.3"
  }
 },
 "nbformat": 4,
 "nbformat_minor": 0
}
