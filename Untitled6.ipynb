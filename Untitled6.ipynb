{
 "cells": [
  {
   "cell_type": "code",
   "execution_count": 34,
   "metadata": {
    "collapsed": false
   },
   "outputs": [
    {
     "data": {
      "text/plain": [
       ":scrape_profile_page"
      ]
     },
     "execution_count": 34,
     "metadata": {},
     "output_type": "execute_result"
    }
   ],
   "source": [
    "require 'open-uri'\n",
    "require 'pry'\n",
    "require 'nokogiri'\n",
    "class Scraper\n",
    "\n",
    "  def self.scrape_index_page(index_url = 'http://127.0.0.1:4000' )\n",
    "  \tstudents = []\n",
    "  \t\n",
    "    doc = Nokogiri::HTML(open(index_url))\n",
    "    doc.css(\".student-card\").each do |student|\n",
    "    \tstudents << {\n",
    "          :name => student.css(\".card-text-container h4\").text,\n",
    "          :location => student.css(\".card-text-container p\").text,\n",
    "          :profile_url => index_url + \"/\" + student.css(\"a\").attribute(\"href\").value\n",
    "    \t}\n",
    "    end\n",
    "    students\n",
    "  end\n",
    "\n",
    "  def self.scrape_profile_page(profile_url)\n",
    "  \tdoc = Nokogiri::HTML(open(profile_url))\n",
    "#   \tsocial_networks = doc.css(\".social-icon-container a\").map {|link| link[\"href\"]}\n",
    "  \t profile = {\n",
    "       :twitter => doc.css(\".social-icon-container a\").detect{|item| item.attribute(\"href\").text.include?(\"twitter\")},\n",
    "       :linkedin => doc.css(\".social-icon-container a\").detect{|item| item.attribute(\"href\").text.include?(\"linkedin\")},\n",
    "       :github => doc.css(\".social-icon-container a\").detect{|item| item.attribute(\"href\").text.include?(\"github\")},\n",
    "       :blog => doc.css(\".social-icon-container a\").detect{|item| !item.attribute(\"href\").text.include?(\"twitter\") && !item.attribute(\"href\").text.include?(\"linkedin\") &&  !item.attribute(\"href\").text.include?(\"github\")},\n",
    "       :profile_quote => doc.css(\".profile-quote\").text,\n",
    "       :bio => doc.css(\".description-holder p\").text\n",
    "  \t}\n",
    "    profile\n",
    "    profile.delete_if{|key, value| value == nil}\n",
    "    profile_new = profile.each do |key, value|\n",
    "      if key == :twitter || key == :linkedin || key == :github || key == :blog\n",
    "       profile[key] = value.attribute(\"href\").value\n",
    "      end\n",
    "    end\n",
    "    profile_new\n",
    "  end\n",
    "\n",
    "end"
   ]
  },
  {
   "cell_type": "code",
   "execution_count": 35,
   "metadata": {
    "collapsed": false
   },
   "outputs": [
    {
     "name": "stdout",
     "output_type": "stream",
     "text": [
      "now deleting\n"
     ]
    },
    {
     "data": {
      "text/plain": [
       "{:linkedin=>\"http://www.linkedin.com/in/glee38\", :github=>\"http://www.github.com/glee38\", :blog=>\"https://www.instagram.com/your_grace_is\", :profile_quote=>\"\\\"The fishermen know that the sea is dangerous and the storm terrible, but they have never found these dangers sufficient reason for remaining ashore.\\\" - Van Gogh\", :bio=>\"Artist, dreamer, and (one day, with fingers crossed, a kick-ass) developer.\"}"
      ]
     },
     "execution_count": 35,
     "metadata": {},
     "output_type": "execute_result"
    }
   ],
   "source": [
    "Scraper.scrape_profile_page('http://127.0.0.1:4000/students/grace-lee.html')"
   ]
  },
  {
   "cell_type": "code",
   "execution_count": null,
   "metadata": {
    "collapsed": true
   },
   "outputs": [],
   "source": []
  },
  {
   "cell_type": "code",
   "execution_count": null,
   "metadata": {
    "collapsed": true
   },
   "outputs": [],
   "source": []
  }
 ],
 "metadata": {
  "kernelspec": {
   "display_name": "Ruby 2.2.3",
   "language": "ruby",
   "name": "ruby"
  },
  "language_info": {
   "file_extension": ".rb",
   "mimetype": "application/x-ruby",
   "name": "ruby",
   "version": "2.2.3"
  }
 },
 "nbformat": 4,
 "nbformat_minor": 0
}
